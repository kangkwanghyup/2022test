{
  "cells": [
    {
      "cell_type": "markdown",
      "metadata": {
        "id": "view-in-github",
        "colab_type": "text"
      },
      "source": [
        "<a href=\"https://colab.research.google.com/github/kangkwanghyup/2022test/blob/main/%EC%9D%B4%EB%AF%B8%EC%A7%80_%EB%8D%B0%EC%9D%B4%ED%84%B0_%EC%A0%84%EC%B2%98%EB%A6%AC(opencv)_11/1%20.ipynb\" target=\"_parent\"><img src=\"https://colab.research.google.com/assets/colab-badge.svg\" alt=\"Open In Colab\"/></a>"
      ]
    },
    {
      "cell_type": "markdown",
      "metadata": {
        "id": "IxVsmrtJtk9D"
      },
      "source": [
        "PIL(pillow), matplotlib, opencv"
      ]
    },
    {
      "cell_type": "code",
      "execution_count": 1,
      "metadata": {
        "id": "Lfn5zRWhtJHy"
      },
      "outputs": [],
      "source": [
        "import cv2\n",
        "import numpy as np\n",
        "import matplotlib.pyplot as plt\n",
        "%matplotlib inline\n",
        "\n",
        "from PIL import Image\n",
        "import requests\n",
        "from io import BytesIO\n",
        "\n",
        "from google.colab.patches import cv2_imshow"
      ]
    },
    {
      "cell_type": "code",
      "execution_count": null,
      "metadata": {
        "id": "sy_xMvxytJEZ"
      },
      "outputs": [],
      "source": [
        "url = 'https://cdn.pixabay.com/photo/2018/10/01/09/21/pets-3715733_960_720.jpg'\n",
        "response=requests.get(url)\n",
        "pic =Image.open(BytesIO(response.content)) #바이트 정보 형태로 url 을 오픈\n",
        "pic"
      ]
    },
    {
      "cell_type": "markdown",
      "source": [
        "넘파이 배열로 이미지 데이터 활용하기"
      ],
      "metadata": {
        "id": "teEoHNprV5Ew"
      }
    },
    {
      "cell_type": "code",
      "execution_count": null,
      "metadata": {
        "id": "LC5Jyra6tJBi"
      },
      "outputs": [],
      "source": [
        "pic_arr=np.asarray(pic)\n",
        "\n",
        "pic_arr.shape"
      ]
    },
    {
      "cell_type": "code",
      "execution_count": null,
      "metadata": {
        "id": "8GBM8tEItIti"
      },
      "outputs": [],
      "source": [
        "pic_arr"
      ]
    },
    {
      "cell_type": "code",
      "execution_count": null,
      "metadata": {
        "id": "aXSvgG8-uCik"
      },
      "outputs": [],
      "source": [
        "plt.imshow(pic_arr)\n",
        "plt.show()"
      ]
    },
    {
      "cell_type": "code",
      "source": [
        "pic_copy=pic_arr.copy()\n",
        "pic_copy=pic_copy[200:400,100:300,:]\n",
        "pic_copy.shape\n",
        "plt.imshow(pic_copy)\n",
        "plt.show()"
      ],
      "metadata": {
        "id": "sQ1UfmLU5eDi"
      },
      "execution_count": null,
      "outputs": []
    },
    {
      "cell_type": "markdown",
      "source": [
        "필터 칼라 RED 만 보기\n",
        "채널 순서 R:0  G:1  B:2   "
      ],
      "metadata": {
        "id": "mQldOGGYsXnd"
      }
    },
    {
      "cell_type": "code",
      "execution_count": null,
      "metadata": {
        "id": "0LK8fnw1vzEd"
      },
      "outputs": [],
      "source": [
        "pic_copy=pic_arr.copy()\n",
        "print(pic_copy[:,:,0])  #3개의 배열중에 red 채널만 보여줘\n",
        "print(pic_copy[:,:,0].shape)"
      ]
    },
    {
      "cell_type": "code",
      "execution_count": null,
      "metadata": {
        "id": "VqwWBlEJvzB0"
      },
      "outputs": [],
      "source": [
        "plt.imshow(pic_copy[:,:,0])\n",
        "plt.show()                  #RED 체널만 볼수 있게"
      ]
    },
    {
      "cell_type": "code",
      "source": [
        "plt.imshow(pic_copy[:,:,0], cmap='gray')\n",
        "plt.show()"
      ],
      "metadata": {
        "id": "rstVZsmaZBMs"
      },
      "execution_count": null,
      "outputs": []
    },
    {
      "cell_type": "code",
      "execution_count": 10,
      "metadata": {
        "id": "Gv5N_h9Cvy-Q"
      },
      "outputs": [],
      "source": [
        "#R채널에 대한 분포 확인\n",
        "pic_red=pic_arr.copy()\n",
        "pic_red[:,:,1]=0        #RGB중에서 0체널 뺴고 나머지 green, blue 값을 0으로 만들어줌\n",
        "pic_red[:,:,2]=0"
      ]
    },
    {
      "cell_type": "code",
      "execution_count": null,
      "metadata": {
        "id": "y8mYmXTjvy4a"
      },
      "outputs": [],
      "source": [
        "pic_red"
      ]
    },
    {
      "cell_type": "code",
      "execution_count": null,
      "metadata": {
        "id": "Ix9Zu9bjwTTh"
      },
      "outputs": [],
      "source": [
        "plt.imshow(pic_red)\n",
        "plt.show()"
      ]
    },
    {
      "cell_type": "markdown",
      "metadata": {
        "id": "dda2veJ1wlPm"
      },
      "source": [
        "<< 실습 >>\n",
        "\n",
        "blue 바꿔보기 ,\n",
        "green으로 바꿔보기"
      ]
    },
    {
      "cell_type": "code",
      "execution_count": null,
      "metadata": {
        "id": "cfr8u51evyvR"
      },
      "outputs": [],
      "source": []
    },
    {
      "cell_type": "code",
      "source": [],
      "metadata": {
        "colab": {
          "base_uri": "https://localhost:8080/",
          "height": 415
        },
        "id": "GBU_ZOZg7AXp",
        "outputId": "34281d01-b7d5-431b-a2d9-796e28127dc3"
      },
      "execution_count": null,
      "outputs": [
        {
          "output_type": "execute_result",
          "data": {
            "text/plain": [
              "<matplotlib.image.AxesImage at 0x7e10c13e7af0>"
            ]
          },
          "metadata": {},
          "execution_count": 22
        },
        {
          "output_type": "display_data",
          "data": {
            "text/plain": [
              "<Figure size 640x480 with 1 Axes>"
            ],
            "image/png": "[encoded data removed]"
          },
          "metadata": {}
        }
      ]
    },
    {
      "cell_type": "code",
      "source": [],
      "metadata": {
        "id": "Lax9bfkIW_ev"
      },
      "execution_count": null,
      "outputs": []
    },
    {
      "cell_type": "code",
      "source": [],
      "metadata": {
        "id": "UiORFHPwW_z3"
      },
      "execution_count": null,
      "outputs": []
    },
    {
      "cell_type": "code",
      "source": [],
      "metadata": {
        "id": "kYt1aRGlXAVf"
      },
      "execution_count": null,
      "outputs": []
    },
    {
      "cell_type": "markdown",
      "metadata": {
        "id": "h4lolH4UuVnn"
      },
      "source": [
        "OPEN CV를 활용한 이미지 출력"
      ]
    },
    {
      "cell_type": "code",
      "execution_count": 14,
      "metadata": {
        "id": "YDCESQKruY6V"
      },
      "outputs": [],
      "source": [
        "from google.colab.patches import cv2_imshow  #코랩에서 오픈CV사용을 위해 필요"
      ]
    },
    {
      "cell_type": "code",
      "execution_count": null,
      "metadata": {
        "id": "8GzqW_6HucC1"
      },
      "outputs": [],
      "source": [
        "cv2_imshow(pic_arr)   #open cv 는 BGR이여서 변화가 필요하다."
      ]
    },
    {
      "cell_type": "code",
      "source": [
        "pic_arr"
      ],
      "metadata": {
        "id": "KTMtGQ7E7tlT"
      },
      "execution_count": null,
      "outputs": []
    },
    {
      "cell_type": "code",
      "execution_count": null,
      "metadata": {
        "id": "QYqkHhzYuf5f"
      },
      "outputs": [],
      "source": [
        "image=cv2.cvtColor(pic_arr, cv2.COLOR_RGB2BGR)\n",
        "cv2_imshow(image)"
      ]
    },
    {
      "cell_type": "code",
      "source": [
        "image"
      ],
      "metadata": {
        "id": "xb9vv3gP7ysE"
      },
      "execution_count": null,
      "outputs": []
    },
    {
      "cell_type": "code",
      "execution_count": null,
      "metadata": {
        "id": "T-9URTpgull4"
      },
      "outputs": [],
      "source": [
        "temp_arr=pic_arr[:,:,::-1]\n",
        "cv2_imshow(temp_arr)"
      ]
    },
    {
      "cell_type": "markdown",
      "source": [
        "shell wget으로 이미지 가져오기"
      ],
      "metadata": {
        "id": "M4Hc3mUt795I"
      }
    },
    {
      "cell_type": "code",
      "execution_count": null,
      "metadata": {
        "id": "nJUa45uJu01W"
      },
      "outputs": [],
      "source": [
        "!wget -O lion.jpg https://files.worldwildlife.org/wwfcmsprod/images/Lion_WWFGIFTS_cover_2020/magazine_small/2wafu1bmcz_b21fc8e6.jpeg"
      ]
    },
    {
      "cell_type": "code",
      "execution_count": 21,
      "metadata": {
        "id": "dIpmLwgUu0x-"
      },
      "outputs": [],
      "source": [
        "image=cv2.imread('/content/lion.jpg', cv2.IMREAD_UNCHANGED)"
      ]
    },
    {
      "cell_type": "code",
      "execution_count": null,
      "metadata": {
        "id": "arwV3Aiju0vl"
      },
      "outputs": [],
      "source": [
        "print(type(image))"
      ]
    },
    {
      "cell_type": "code",
      "source": [
        "image.shape"
      ],
      "metadata": {
        "id": "78lpKnYU8KCA"
      },
      "execution_count": null,
      "outputs": []
    },
    {
      "cell_type": "code",
      "execution_count": null,
      "metadata": {
        "id": "4fOrujCwu0st"
      },
      "outputs": [],
      "source": [
        "print(image)"
      ]
    },
    {
      "cell_type": "code",
      "execution_count": null,
      "metadata": {
        "id": "Fl2VZrhBu0p3"
      },
      "outputs": [],
      "source": [
        "from google.colab.patches import cv2_imshow\n",
        "cv2_imshow(image)"
      ]
    },
    {
      "cell_type": "code",
      "execution_count": null,
      "metadata": {
        "id": "bQQHiirevOwR"
      },
      "outputs": [],
      "source": [
        "plt.imshow(image)\n",
        "plt.show()"
      ]
    },
    {
      "cell_type": "code",
      "source": [
        "lion=image.copy()\n",
        "lion_cvt=lion[:,:,::-1]\n",
        "plt.imshow(lion_cvt)\n",
        "plt.show()"
      ],
      "metadata": {
        "id": "e9HbQYLX8iT0"
      },
      "execution_count": null,
      "outputs": []
    },
    {
      "cell_type": "code",
      "execution_count": null,
      "metadata": {
        "id": "NrnHq2PwvcVe"
      },
      "outputs": [],
      "source": [
        "img_gray=cv2.imread('/content/lion.jpg', cv2.IMREAD_GRAYSCALE)\n",
        "print(img_gray.shape)\n",
        "cv2_imshow(img_gray)"
      ]
    },
    {
      "cell_type": "markdown",
      "source": [
        "이미지 데이터 기하학적 변환"
      ],
      "metadata": {
        "id": "DP4pJTEU83NS"
      }
    },
    {
      "cell_type": "code",
      "source": [
        "#Resize\n",
        "\n",
        "!wget -O Moon.jpg https://cdn.pixabay.com/photo/2021/06/26/06/52/moon-6365467_960_720.jpg\n",
        "img=cv2.imread('/content/Moon.jpg')\n",
        "print(img.shape)"
      ],
      "metadata": {
        "id": "-JXmJMmXSIUM"
      },
      "execution_count": null,
      "outputs": []
    },
    {
      "cell_type": "code",
      "source": [
        "cv2_imshow(img)"
      ],
      "metadata": {
        "id": "r4QNS9pNSeHM"
      },
      "execution_count": null,
      "outputs": []
    },
    {
      "cell_type": "code",
      "source": [
        "height, width=img.shape[:2]\n",
        "shrink = cv2.resize(img, None, fx=0.5, fy=0.5, interpolation= cv2.INTER_AREA)\n",
        "zoom=cv2.resize(img, (width*2, height*2), interpolation=cv2.INTER_CUBIC)\n",
        "zoom2=cv2.resize(img, None, fx=2, fy=2, interpolation=cv2.INTER_CUBIC)"
      ],
      "metadata": {
        "id": "DOcAyKIyS00t"
      },
      "execution_count": 31,
      "outputs": []
    },
    {
      "cell_type": "code",
      "source": [
        "cv2_imshow(shrink)\n",
        "print(shrink.shape)"
      ],
      "metadata": {
        "id": "Hr4R1EBxS3zD"
      },
      "execution_count": null,
      "outputs": []
    },
    {
      "cell_type": "code",
      "source": [
        "cv2_imshow(zoom)\n",
        "print(zoom.shape)"
      ],
      "metadata": {
        "id": "N3SjBuQ-S5wl"
      },
      "execution_count": null,
      "outputs": []
    },
    {
      "cell_type": "code",
      "source": [
        "#Translation\n",
        "rows, cols = img.shape[:2]\n",
        "\n",
        "M=np.float32([[1,0,20],[0,1,40]])\n",
        "dst= cv2.warpAffine(img, M, (cols, rows))"
      ],
      "metadata": {
        "id": "p4XkE4fOS8Bb"
      },
      "execution_count": 34,
      "outputs": []
    },
    {
      "cell_type": "code",
      "source": [
        "cv2_imshow(dst)"
      ],
      "metadata": {
        "id": "kEJWxvDtTAxb"
      },
      "execution_count": null,
      "outputs": []
    },
    {
      "cell_type": "code",
      "source": [
        "#Rotate\n",
        "rows, cols =img.shape[:2]\n",
        "M=cv2.getRotationMatrix2D((cols/2, rows/2), 60, 0.5 )\n",
        "dst =cv2.warpAffine(img, M, (cols, rows))"
      ],
      "metadata": {
        "id": "OZftHSS1TC46"
      },
      "execution_count": 36,
      "outputs": []
    },
    {
      "cell_type": "code",
      "source": [
        "cv2_imshow(dst)\n",
        "print(dst.shape)"
      ],
      "metadata": {
        "id": "d8OiZ8u0TGGm"
      },
      "execution_count": null,
      "outputs": []
    },
    {
      "cell_type": "code",
      "source": [
        "#Flip\n",
        "img=cv2.imread('/content/Moon.jpg')\n",
        "img=cv2.cvtColor(img, cv2.COLOR_BGR2RGB)\n",
        "\n",
        "result1=cv2.flip(img,1)    #좌우 반전\n",
        "plt.imshow(result1)\n",
        "plt.show()"
      ],
      "metadata": {
        "id": "-MfAmcpWTXJE"
      },
      "execution_count": null,
      "outputs": []
    },
    {
      "cell_type": "code",
      "source": [
        "result2=cv2.flip(img, 0) #상하반전\n",
        "plt.imshow(result2)\n",
        "plt.show()"
      ],
      "metadata": {
        "id": "hxvZhbzOToKb"
      },
      "execution_count": null,
      "outputs": []
    },
    {
      "cell_type": "markdown",
      "source": [
        "Affine 변환"
      ],
      "metadata": {
        "id": "YP-pqHwhRLOd"
      }
    },
    {
      "cell_type": "code",
      "execution_count": 41,
      "metadata": {
        "id": "TS9LERpDvb_v"
      },
      "outputs": [],
      "source": [
        "rows, cols, ch= img.shape\n",
        "\n",
        "pts1= np.float32([[200,100], [400,100], [200,200]])\n",
        "pts2=np.float32([[200,300], [400,100], [200,400]])\n",
        "\n",
        "cv2.circle(img, (200,100),10, (255,0,0), -1 )  #빨간원\n",
        "cv2.circle(img, (400,100),10, (0,255,0), -1 )  #파란원\n",
        "cv2.circle(img, (200,200),10, (0,0,255), -1 )  #녹색원\n",
        "\n",
        "M=cv2.getAffineTransform(pts1, pts2)\n",
        "\n",
        "dst=cv2.warpAffine(img, M, (cols, rows))"
      ]
    },
    {
      "cell_type": "code",
      "source": [
        "cv2_imshow(dst)\n",
        "print(dst.shape)"
      ],
      "metadata": {
        "id": "s309rl7NTNgz"
      },
      "execution_count": null,
      "outputs": []
    },
    {
      "cell_type": "code",
      "source": [
        "plt.subplot(121)\n",
        "plt.imshow(img[:, :, ::-1])\n",
        "\n",
        "plt.title('Image')\n",
        "\n",
        "plt.subplot(122)\n",
        "plt.imshow(dst[:, :, ::-1])\n",
        "plt.title('get Affine')"
      ],
      "metadata": {
        "id": "KdAd2xUyTPBV"
      },
      "execution_count": null,
      "outputs": []
    },
    {
      "cell_type": "code",
      "execution_count": null,
      "metadata": {
        "id": "akSxFwJVvOin"
      },
      "outputs": [],
      "source": [
        "M = np.array([ [np.cos(np.pi/6), -np.sin(np.pi/6), 100],\n",
        "               [np.sin(np.pi/6),  np.cos(np.pi/6), -100] ])\n",
        "# Affine 변환하기\n",
        "dst = cv2.warpAffine(img, M, (cols,rows))\n",
        "\n",
        "plt.subplot(121),plt.imshow(img),plt.title('original image')\n",
        "plt.subplot(122),plt.imshow(dst),plt.title('warp Affine')\n",
        "plt.show()"
      ]
    },
    {
      "cell_type": "markdown",
      "source": [
        "convolution Filter"
      ],
      "metadata": {
        "id": "i7L8f5IgRZVl"
      }
    },
    {
      "cell_type": "code",
      "source": [
        "x = np.array([[1, 1, 1, 0, 0],\n",
        "              [0, 1, 1, 1, 0],\n",
        "              [0, 0, 1, 1, 1],\n",
        "              [0, 0, 1, 1, 0],\n",
        "              [0, 1, 1, 0, 0]],dtype=float)\n",
        "kernel = np.array([[1, 1, 1],\n",
        "                   [1, 1, 1],\n",
        "                   [1, 1, 1],],)\n",
        "# borderType=cv2.BORDER_CONSTANT padding with zero\n",
        "y = cv2.filter2D(x, -1, kernel, borderType=cv2.BORDER_CONSTANT)\n",
        "print(y)"
      ],
      "metadata": {
        "id": "ud3F1YZIRc10"
      },
      "execution_count": null,
      "outputs": []
    },
    {
      "cell_type": "code",
      "source": [
        "!wget -O tree.jpg http://sipi.usc.edu/database/preview/misc/4.1.06.png"
      ],
      "metadata": {
        "colab": {
          "base_uri": "https://localhost:8080/"
        },
        "id": "HzpQqIGVPasQ",
        "outputId": "35605764-2468-4370-b894-0187ed694c3a"
      },
      "execution_count": null,
      "outputs": [
        {
          "output_type": "stream",
          "name": "stdout",
          "text": [
            "--2023-10-21 07:06:41--  http://sipi.usc.edu/database/preview/misc/4.1.06.png\n",
            "Resolving sipi.usc.edu (sipi.usc.edu)... 68.181.2.90\n",
            "Connecting to sipi.usc.edu (sipi.usc.edu)|68.181.2.90|:80... connected.\n",
            "HTTP request sent, awaiting response... 301 Moved Permanently\n",
            "Location: https://sipi.usc.edu/database/preview/misc/4.1.06.png [following]\n",
            "--2023-10-21 07:06:41--  https://sipi.usc.edu/database/preview/misc/4.1.06.png\n",
            "Connecting to sipi.usc.edu (sipi.usc.edu)|68.181.2.90|:443... connected.\n",
            "ERROR: cannot verify sipi.usc.edu's certificate, issued by ‘CN=InCommon RSA Server CA,OU=InCommon,O=Internet2,L=Ann Arbor,ST=MI,C=US’:\n",
            "  Issued certificate has expired.\n",
            "To connect to sipi.usc.edu insecurely, use `--no-check-certificate'.\n"
          ]
        }
      ]
    },
    {
      "cell_type": "code",
      "source": [
        "src=cv2.imread('/content/tree.jpg', cv2.IMREAD_UNCHANGED)"
      ],
      "metadata": {
        "id": "3-FmMgsgPm-1"
      },
      "execution_count": null,
      "outputs": []
    },
    {
      "cell_type": "code",
      "source": [
        "src.shape"
      ],
      "metadata": {
        "id": "RXiaKpwUQPjG"
      },
      "execution_count": null,
      "outputs": []
    },
    {
      "cell_type": "code",
      "source": [
        "#src = cv2.imread(img_path)\n",
        "src = cv2.cvtColor(src, cv2.COLOR_BGR2RGB)\n",
        "image = cv2.resize(src, dsize=(80, 80), interpolation=cv2.INTER_AREA)\n",
        "\n",
        "box_blur = np.array([[1, 1, 1],\n",
        "                     [1, 1, 1],\n",
        "                     [1, 1, 1] ])/9.\n",
        "dst = cv2.filter2D(image, -1, box_blur)\n",
        "plt.figure(figsize=(10, 4))\n",
        "plt.subplot(121),plt.imshow(image),plt.title('original')\n",
        "plt.subplot(122),plt.imshow(dst),plt.title('box blur')\n",
        "plt.show()"
      ],
      "metadata": {
        "id": "rwFHvSfIRfyL"
      },
      "execution_count": null,
      "outputs": []
    },
    {
      "cell_type": "code",
      "source": [
        "edge_detect = np.array([[-1, -1, -1],\n",
        "                        [-1,  8, -1],\n",
        "                        [-1, -1, -1] ])\n",
        "kernel = edge_detect\n",
        "dst = cv2.filter2D(image, -1, kernel)\n",
        "plt.figure(figsize=(10, 4))\n",
        "plt.subplot(121),plt.imshow(image),plt.title('original')\n",
        "plt.subplot(122),plt.imshow(dst),plt.title('edge detect')\n",
        "plt.show()"
      ],
      "metadata": {
        "id": "Ex0XWZoARhGs"
      },
      "execution_count": null,
      "outputs": []
    },
    {
      "cell_type": "code",
      "source": [
        "#canny 에지 검출기\n",
        "gray_img=cv2.cvtColor(src, cv2.COLOR_BGR2GRAY)\n",
        "canny = cv2.Canny(gray_img,100, 200)\n",
        "plt.figure(figsize=(10, 4))\n",
        "plt.subplot(121),plt.imshow(image),plt.title('original')\n",
        "plt.subplot(122),plt.imshow(canny),plt.title('edge detect')\n",
        "plt.show()"
      ],
      "metadata": {
        "id": "ozNG8wC2cRpo"
      },
      "execution_count": null,
      "outputs": []
    },
    {
      "cell_type": "code",
      "source": [
        "#샤프닝\n",
        "sharpen = np.array([[ 0, -1,  0],\n",
        "                    [-1,  5, -1],\n",
        "                    [ 0, -1,  0] ])\n",
        "kernel = sharpen\n",
        "dst = cv2.filter2D(src, -1, kernel)\n",
        "plt.figure(figsize=(10, 4))\n",
        "plt.subplot(121),plt.imshow(image),plt.title('original')\n",
        "plt.subplot(122),plt.imshow(dst),plt.title('sharpen')\n",
        "plt.show()"
      ],
      "metadata": {
        "id": "J10qFuHLRiKz"
      },
      "execution_count": null,
      "outputs": []
    },
    {
      "cell_type": "code",
      "source": [
        "#가우시안 필터링\n",
        "\n",
        "dst = cv2.GaussianBlur(src, (5,5),0)\n",
        "plt.figure(figsize=(10, 4))\n",
        "plt.subplot(121),plt.imshow(image),plt.title('original')\n",
        "plt.subplot(122),plt.imshow(dst),plt.title('gausian')\n",
        "plt.show()"
      ],
      "metadata": {
        "id": "AwKZarO-RbAW"
      },
      "execution_count": null,
      "outputs": []
    },
    {
      "cell_type": "code",
      "source": [],
      "metadata": {
        "id": "DLak-DPobFuH"
      },
      "execution_count": null,
      "outputs": []
    }
  ],
  "metadata": {
    "accelerator": "GPU",
    "colab": {
      "provenance": [],
      "include_colab_link": true
    },
    "kernelspec": {
      "display_name": "Python 3",
      "name": "python3"
    },
    "language_info": {
      "name": "python"
    }
  },
  "nbformat": 4,
  "nbformat_minor": 0
}